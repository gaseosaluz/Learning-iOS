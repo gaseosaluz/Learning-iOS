{
 "cells": [
  {
   "cell_type": "markdown",
   "id": "ba344bd3",
   "metadata": {},
   "source": [
    "# Turi Create Activity Classification with HAPT"
   ]
  },
  {
   "cell_type": "markdown",
   "id": "34b233ba",
   "metadata": {},
   "source": [
    "TBD"
   ]
  },
  {
   "cell_type": "markdown",
   "id": "c0597291",
   "metadata": {},
   "source": [
    "# References\n",
    "\n",
    "* UCI Machine Language Repository.  Smartphone-Based Recognition of Human Activities and Postural Transitions Data Set. http://archive.ics.uci.edu/ml/datasets/Smartphone-Based+Recognition+of+Human+Activities+and+Postural+Transitions\n",
    "\n",
    "* Turi Create Activity Classification. https://apple.github.io/turicreate/docs/userguide/activity_classifier/"
   ]
  },
  {
   "cell_type": "markdown",
   "id": "b092816a",
   "metadata": {},
   "source": [
    "# Sensor Data\n",
    "\n",
    "In the HAPT dataset, the sensors were sampled at 50Hz (50 times a second). With this knowledge we can control the output prediction via a `prediction_window` paramer. For example, if we want to produce a prediction every 5 seconds, and the sensors are sampled at 50Hz (as they are in this dataset)  we set the `prediction_window`  250 (5 sec * 50 samples per second)."
   ]
  },
  {
   "cell_type": "markdown",
   "id": "b7eba56e",
   "metadata": {},
   "source": [
    "# Data Plots\n",
    "\n",
    "TBD"
   ]
  },
  {
   "cell_type": "markdown",
   "id": "207b5ee2",
   "metadata": {},
   "source": [
    "# Environment setup"
   ]
  },
  {
   "cell_type": "code",
   "execution_count": 1,
   "id": "12c3d0b3",
   "metadata": {},
   "outputs": [],
   "source": [
    "import turicreate as tc"
   ]
  },
  {
   "cell_type": "markdown",
   "id": "6844e748",
   "metadata": {},
   "source": [
    "# Loading the Dataset into Turi Create"
   ]
  },
  {
   "cell_type": "markdown",
   "id": "876e0317",
   "metadata": {},
   "source": [
    "The data was downloaded from the UCI archive (see reference above) and stored in a directory that is below this notebook's directory: `data/HAPT Data Set/`.\n",
    "\n",
    "This folder contains 3 types of files - a file containing the performed activities for each experiment, files containing the collected accelerometer samples, and files containing the collected gyroscope samples.\n",
    "\n",
    "The first file is labels.txt, which contains activities performed for each experiment. The labels are specified by sample index ranges. For example, in experiment 1 the subject was performing activity number 5 between the 250th collected sample and the 1232th collected sample. The activities are encoded between numbers 1 and 6. We convert these to strings at the end of this section. The code below imports Turi Create, loads labels.txt into an SFrame, and defines a function to find the label given a sample index."
   ]
  },
  {
   "cell_type": "code",
   "execution_count": 2,
   "id": "62856dd0",
   "metadata": {},
   "outputs": [],
   "source": [
    "dataDir = 'data/HAPT Data Set/RawData/'"
   ]
  },
  {
   "cell_type": "code",
   "execution_count": 3,
   "id": "e2c11519",
   "metadata": {},
   "outputs": [],
   "source": [
    "def find_label_for_containing_interval(intervals, index):\n",
    "    containing_interval = intervals[:, 0][(intervals[:, 1] <= index) & (index <= intervals[:, 2])]\n",
    "    if len(containing_interval) == 1:\n",
    "        return containing_interval[0]"
   ]
  },
  {
   "cell_type": "markdown",
   "id": "ee5d9168",
   "metadata": {},
   "source": [
    "Load the labels"
   ]
  },
  {
   "cell_type": "code",
   "execution_count": 4,
   "id": "062031ce",
   "metadata": {},
   "outputs": [
    {
     "data": {
      "text/html": [
       "<div style=\"max-height:1000px;max-width:1500px;overflow:auto;\"><table frame=\"box\" rules=\"cols\">\n",
       "    <tr>\n",
       "        <th style=\"padding-left: 1em; padding-right: 1em; text-align: center\">exp_id</th>\n",
       "        <th style=\"padding-left: 1em; padding-right: 1em; text-align: center\">user_id</th>\n",
       "        <th style=\"padding-left: 1em; padding-right: 1em; text-align: center\">activity_id</th>\n",
       "        <th style=\"padding-left: 1em; padding-right: 1em; text-align: center\">start</th>\n",
       "        <th style=\"padding-left: 1em; padding-right: 1em; text-align: center\">end</th>\n",
       "    </tr>\n",
       "    <tr>\n",
       "        <td style=\"padding-left: 1em; padding-right: 1em; text-align: center; vertical-align: top\">1</td>\n",
       "        <td style=\"padding-left: 1em; padding-right: 1em; text-align: center; vertical-align: top\">1</td>\n",
       "        <td style=\"padding-left: 1em; padding-right: 1em; text-align: center; vertical-align: top\">5</td>\n",
       "        <td style=\"padding-left: 1em; padding-right: 1em; text-align: center; vertical-align: top\">250</td>\n",
       "        <td style=\"padding-left: 1em; padding-right: 1em; text-align: center; vertical-align: top\">1232</td>\n",
       "    </tr>\n",
       "    <tr>\n",
       "        <td style=\"padding-left: 1em; padding-right: 1em; text-align: center; vertical-align: top\">1</td>\n",
       "        <td style=\"padding-left: 1em; padding-right: 1em; text-align: center; vertical-align: top\">1</td>\n",
       "        <td style=\"padding-left: 1em; padding-right: 1em; text-align: center; vertical-align: top\">7</td>\n",
       "        <td style=\"padding-left: 1em; padding-right: 1em; text-align: center; vertical-align: top\">1233</td>\n",
       "        <td style=\"padding-left: 1em; padding-right: 1em; text-align: center; vertical-align: top\">1392</td>\n",
       "    </tr>\n",
       "    <tr>\n",
       "        <td style=\"padding-left: 1em; padding-right: 1em; text-align: center; vertical-align: top\">1</td>\n",
       "        <td style=\"padding-left: 1em; padding-right: 1em; text-align: center; vertical-align: top\">1</td>\n",
       "        <td style=\"padding-left: 1em; padding-right: 1em; text-align: center; vertical-align: top\">4</td>\n",
       "        <td style=\"padding-left: 1em; padding-right: 1em; text-align: center; vertical-align: top\">1393</td>\n",
       "        <td style=\"padding-left: 1em; padding-right: 1em; text-align: center; vertical-align: top\">2194</td>\n",
       "    </tr>\n",
       "    <tr>\n",
       "        <td style=\"padding-left: 1em; padding-right: 1em; text-align: center; vertical-align: top\">1</td>\n",
       "        <td style=\"padding-left: 1em; padding-right: 1em; text-align: center; vertical-align: top\">1</td>\n",
       "        <td style=\"padding-left: 1em; padding-right: 1em; text-align: center; vertical-align: top\">8</td>\n",
       "        <td style=\"padding-left: 1em; padding-right: 1em; text-align: center; vertical-align: top\">2195</td>\n",
       "        <td style=\"padding-left: 1em; padding-right: 1em; text-align: center; vertical-align: top\">2359</td>\n",
       "    </tr>\n",
       "    <tr>\n",
       "        <td style=\"padding-left: 1em; padding-right: 1em; text-align: center; vertical-align: top\">1</td>\n",
       "        <td style=\"padding-left: 1em; padding-right: 1em; text-align: center; vertical-align: top\">1</td>\n",
       "        <td style=\"padding-left: 1em; padding-right: 1em; text-align: center; vertical-align: top\">5</td>\n",
       "        <td style=\"padding-left: 1em; padding-right: 1em; text-align: center; vertical-align: top\">2360</td>\n",
       "        <td style=\"padding-left: 1em; padding-right: 1em; text-align: center; vertical-align: top\">3374</td>\n",
       "    </tr>\n",
       "    <tr>\n",
       "        <td style=\"padding-left: 1em; padding-right: 1em; text-align: center; vertical-align: top\">1</td>\n",
       "        <td style=\"padding-left: 1em; padding-right: 1em; text-align: center; vertical-align: top\">1</td>\n",
       "        <td style=\"padding-left: 1em; padding-right: 1em; text-align: center; vertical-align: top\">11</td>\n",
       "        <td style=\"padding-left: 1em; padding-right: 1em; text-align: center; vertical-align: top\">3375</td>\n",
       "        <td style=\"padding-left: 1em; padding-right: 1em; text-align: center; vertical-align: top\">3662</td>\n",
       "    </tr>\n",
       "    <tr>\n",
       "        <td style=\"padding-left: 1em; padding-right: 1em; text-align: center; vertical-align: top\">1</td>\n",
       "        <td style=\"padding-left: 1em; padding-right: 1em; text-align: center; vertical-align: top\">1</td>\n",
       "        <td style=\"padding-left: 1em; padding-right: 1em; text-align: center; vertical-align: top\">6</td>\n",
       "        <td style=\"padding-left: 1em; padding-right: 1em; text-align: center; vertical-align: top\">3663</td>\n",
       "        <td style=\"padding-left: 1em; padding-right: 1em; text-align: center; vertical-align: top\">4538</td>\n",
       "    </tr>\n",
       "    <tr>\n",
       "        <td style=\"padding-left: 1em; padding-right: 1em; text-align: center; vertical-align: top\">1</td>\n",
       "        <td style=\"padding-left: 1em; padding-right: 1em; text-align: center; vertical-align: top\">1</td>\n",
       "        <td style=\"padding-left: 1em; padding-right: 1em; text-align: center; vertical-align: top\">10</td>\n",
       "        <td style=\"padding-left: 1em; padding-right: 1em; text-align: center; vertical-align: top\">4539</td>\n",
       "        <td style=\"padding-left: 1em; padding-right: 1em; text-align: center; vertical-align: top\">4735</td>\n",
       "    </tr>\n",
       "    <tr>\n",
       "        <td style=\"padding-left: 1em; padding-right: 1em; text-align: center; vertical-align: top\">1</td>\n",
       "        <td style=\"padding-left: 1em; padding-right: 1em; text-align: center; vertical-align: top\">1</td>\n",
       "        <td style=\"padding-left: 1em; padding-right: 1em; text-align: center; vertical-align: top\">4</td>\n",
       "        <td style=\"padding-left: 1em; padding-right: 1em; text-align: center; vertical-align: top\">4736</td>\n",
       "        <td style=\"padding-left: 1em; padding-right: 1em; text-align: center; vertical-align: top\">5667</td>\n",
       "    </tr>\n",
       "    <tr>\n",
       "        <td style=\"padding-left: 1em; padding-right: 1em; text-align: center; vertical-align: top\">1</td>\n",
       "        <td style=\"padding-left: 1em; padding-right: 1em; text-align: center; vertical-align: top\">1</td>\n",
       "        <td style=\"padding-left: 1em; padding-right: 1em; text-align: center; vertical-align: top\">9</td>\n",
       "        <td style=\"padding-left: 1em; padding-right: 1em; text-align: center; vertical-align: top\">5668</td>\n",
       "        <td style=\"padding-left: 1em; padding-right: 1em; text-align: center; vertical-align: top\">5859</td>\n",
       "    </tr>\n",
       "</table>\n",
       "[1214 rows x 5 columns]<br/>Note: Only the head of the SFrame is printed.<br/>You can use print_rows(num_rows=m, num_columns=n) to print more rows and columns.\n",
       "</div>"
      ],
      "text/plain": [
       "Columns:\n",
       "\texp_id\tint\n",
       "\tuser_id\tint\n",
       "\tactivity_id\tint\n",
       "\tstart\tint\n",
       "\tend\tint\n",
       "\n",
       "Rows: 1214\n",
       "\n",
       "Data:\n",
       "+--------+---------+-------------+-------+------+\n",
       "| exp_id | user_id | activity_id | start | end  |\n",
       "+--------+---------+-------------+-------+------+\n",
       "|   1    |    1    |      5      |  250  | 1232 |\n",
       "|   1    |    1    |      7      |  1233 | 1392 |\n",
       "|   1    |    1    |      4      |  1393 | 2194 |\n",
       "|   1    |    1    |      8      |  2195 | 2359 |\n",
       "|   1    |    1    |      5      |  2360 | 3374 |\n",
       "|   1    |    1    |      11     |  3375 | 3662 |\n",
       "|   1    |    1    |      6      |  3663 | 4538 |\n",
       "|   1    |    1    |      10     |  4539 | 4735 |\n",
       "|   1    |    1    |      4      |  4736 | 5667 |\n",
       "|   1    |    1    |      9      |  5668 | 5859 |\n",
       "+--------+---------+-------------+-------+------+\n",
       "[1214 rows x 5 columns]\n",
       "Note: Only the head of the SFrame is printed.\n",
       "You can use print_rows(num_rows=m, num_columns=n) to print more rows and columns."
      ]
     },
     "execution_count": 4,
     "metadata": {},
     "output_type": "execute_result"
    }
   ],
   "source": [
    "labels = tc.SFrame.read_csv(dataDir + 'labels.txt', delimiter=' ', header=False,\n",
    "                            verbose=False)\n",
    "labels = labels.rename({'X1': 'exp_id', 'X2': 'user_id', 'X3': 'activity_id',\n",
    "                        'X4': 'start', 'X5': 'end'})\n",
    "labels"
   ]
  },
  {
   "cell_type": "markdown",
   "id": "467c5465",
   "metadata": {},
   "source": [
    "Next, we need to get the accelerometer and gyroscope data for each experiment. For each experiment, every sensor's data is in a separate file. In the code below we load the accelerometer and gyroscope data from all experiments into a single SFrame. While loading the collected samples, we also calculate the label for each sample using our previously defined function. The final SFrame contains a column named exp_id to identify each unique sessions."
   ]
  },
  {
   "cell_type": "code",
   "execution_count": 6,
   "id": "d71bdcaf",
   "metadata": {},
   "outputs": [],
   "source": [
    "from glob import glob\n",
    "\n",
    "acc_files = glob(dataDir + 'acc_*.txt')\n",
    "gyro_files = glob(dataDir + 'gyro_*.txt')"
   ]
  },
  {
   "cell_type": "markdown",
   "id": "ac3d28b1",
   "metadata": {},
   "source": [
    "Load the data"
   ]
  },
  {
   "cell_type": "code",
   "execution_count": 7,
   "id": "4297ccfa",
   "metadata": {},
   "outputs": [],
   "source": [
    "data = tc.SFrame()\n",
    "files = zip(sorted(acc_files), sorted(gyro_files))\n",
    "for acc_file, gyro_file in files:\n",
    "    exp_id = int(acc_file.split('_')[1][-2:])\n",
    "\n",
    "    # Load accel data\n",
    "    sf = tc.SFrame.read_csv(acc_file, delimiter=' ', header=False, verbose=False)\n",
    "    sf = sf.rename({'X1': 'acc_x', 'X2': 'acc_y', 'X3': 'acc_z'})\n",
    "    sf['exp_id'] = exp_id\n",
    "\n",
    "    # Load gyro data\n",
    "    gyro_sf = tc.SFrame.read_csv(gyro_file, delimiter=' ', header=False, verbose=False)\n",
    "    gyro_sf = gyro_sf.rename({'X1': 'gyro_x', 'X2': 'gyro_y', 'X3': 'gyro_z'})\n",
    "    sf = sf.add_columns(gyro_sf)\n",
    "\n",
    "    # Calc labels\n",
    "    exp_labels = labels[labels['exp_id'] == exp_id][['activity_id', 'start', 'end']].to_numpy()\n",
    "    sf = sf.add_row_number()\n",
    "    sf['activity_id'] = sf['id'].apply(lambda x: find_label_for_containing_interval(exp_labels, x))\n",
    "    sf = sf.remove_columns(['id'])\n",
    "\n",
    "    data = data.append(sf)\n"
   ]
  },
  {
   "cell_type": "markdown",
   "id": "d25d091d",
   "metadata": {},
   "source": [
    "Finally, we encode the labels back into a readable string format, and save the resulting SFrame."
   ]
  },
  {
   "cell_type": "code",
   "execution_count": 8,
   "id": "fd6b5455",
   "metadata": {},
   "outputs": [],
   "source": [
    "target_map = {\n",
    "    1.: 'walking',          \n",
    "    2.: 'climbing_upstairs',\n",
    "    3.: 'climbing_downstairs',\n",
    "    4.: 'sitting',\n",
    "    5.: 'standing',\n",
    "    6.: 'laying'\n",
    "}\n"
   ]
  },
  {
   "cell_type": "markdown",
   "id": "8a7bab54",
   "metadata": {},
   "source": [
    "Use same lables as in the UCI experiment"
   ]
  },
  {
   "cell_type": "code",
   "execution_count": 9,
   "id": "1312fe43",
   "metadata": {},
   "outputs": [],
   "source": [
    "data = data.filter_by(list(target_map.keys()), 'activity_id')\n",
    "data['activity'] = data['activity_id'].apply(lambda x: target_map[x])\n",
    "data = data.remove_column('activity_id')\n",
    "\n",
    "data.save('hapt_data.sframe')"
   ]
  },
  {
   "cell_type": "markdown",
   "id": "5997fcf8",
   "metadata": {},
   "source": [
    "Load sessions from the preprocessed data"
   ]
  },
  {
   "cell_type": "code",
   "execution_count": 10,
   "id": "a16264a2",
   "metadata": {},
   "outputs": [
    {
     "name": "stdout",
     "output_type": "stream",
     "text": [
      "+-------------------+---------------------+---------------------+--------+\n",
      "|       acc_x       |        acc_y        |        acc_z        | exp_id |\n",
      "+-------------------+---------------------+---------------------+--------+\n",
      "| 1.020833394742025 | -0.1250000020616516 |  0.105555564319952  |   1    |\n",
      "| 1.025000070391787 | -0.1250000020616516 |  0.1013888947481719 |   1    |\n",
      "| 1.020833394742025 | -0.1250000020616516 |  0.1041666724366978 |   1    |\n",
      "| 1.016666719092262 | -0.1250000020616516 |  0.1083333359304957 |   1    |\n",
      "| 1.018055610975516 | -0.1277777858281599 |  0.1083333359304957 |   1    |\n",
      "| 1.018055610975516 | -0.1291666655554495 |  0.1041666724366978 |   1    |\n",
      "|  1.01944450285877 | -0.1250000020616516 |  0.1013888947481719 |   1    |\n",
      "| 1.016666719092262 | -0.1236111101783975 | 0.09722222517639174 |   1    |\n",
      "| 1.020833394742025 | -0.1277777858281599 | 0.09861111705964588 |   1    |\n",
      "|  1.01944450285877 | -0.1152777831908018 | 0.09444444748786576 |   1    |\n",
      "+-------------------+---------------------+---------------------+--------+\n",
      "+------------------------+-----------------------+-----------------------+\n",
      "|         gyro_x         |         gyro_y        |         gyro_z        |\n",
      "+------------------------+-----------------------+-----------------------+\n",
      "| -0.002748893573880196  |  -0.00427605677396059 |  0.002748893573880196 |\n",
      "| -0.0003054326225537807 | -0.002138028386980295 |  0.006108652334660292 |\n",
      "|  0.01221730466932058   | 0.0009162978967651724 |  -0.00733038317412138 |\n",
      "|  0.01130100712180138   | -0.001832595793530345 | -0.006414085160940886 |\n",
      "|  0.01099557429552078   | -0.001527163083665073 | -0.004886921960860491 |\n",
      "|  0.009162978269159794  | -0.003054326167330146 |  0.01007927674800158  |\n",
      "|  0.01007927674800158   |  -0.00366519158706069 | 0.0003054326225537807 |\n",
      "|  0.01374446786940098   |  -0.01496619824320078 |  0.00427605677396059  |\n",
      "|  0.009773843921720982  | -0.006414085160940886 | 0.0003054326225537807 |\n",
      "|  0.01649336144328117   |  0.00366519158706069  |  0.003359758760780096 |\n",
      "+------------------------+-----------------------+-----------------------+\n",
      "+----------+\n",
      "| activity |\n",
      "+----------+\n",
      "| standing |\n",
      "| standing |\n",
      "| standing |\n",
      "| standing |\n",
      "| standing |\n",
      "| standing |\n",
      "| standing |\n",
      "| standing |\n",
      "| standing |\n",
      "| standing |\n",
      "+----------+\n",
      "[748406 rows x 8 columns]\n",
      "Note: Only the head of the SFrame is printed.\n",
      "You can use print_rows(num_rows=m, num_columns=n) to print more rows and columns.\n"
     ]
    }
   ],
   "source": [
    "data = tc.SFrame('hapt_data.sframe')\n",
    "print(data)"
   ]
  },
  {
   "cell_type": "markdown",
   "id": "81c94fb9",
   "metadata": {},
   "source": [
    "Train and split by recorded sessions"
   ]
  },
  {
   "cell_type": "code",
   "execution_count": 11,
   "id": "b52d6e55",
   "metadata": {},
   "outputs": [],
   "source": [
    "train, test = tc.activity_classifier.util.random_split_by_session(data,\n",
    "                                                                  session_id='exp_id',\n",
    "                                                                  fraction=0.8)"
   ]
  },
  {
   "cell_type": "code",
   "execution_count": 12,
   "id": "93a9aa42",
   "metadata": {},
   "outputs": [
    {
     "data": {
      "text/plain": [
       "5"
      ]
     },
     "execution_count": 12,
     "metadata": {},
     "output_type": "execute_result"
    }
   ],
   "source": [
    "len(test['exp_id'].unique())"
   ]
  },
  {
   "cell_type": "markdown",
   "id": "191349e5",
   "metadata": {},
   "source": [
    "Now we create the activity classifier. Use the GPU if one is available"
   ]
  },
  {
   "cell_type": "code",
   "execution_count": 13,
   "id": "8e130931",
   "metadata": {},
   "outputs": [
    {
     "data": {
      "text/html": [
       "<pre>Pre-processing 634237 samples...</pre>"
      ],
      "text/plain": [
       "Pre-processing 634237 samples..."
      ]
     },
     "metadata": {},
     "output_type": "display_data"
    },
    {
     "data": {
      "text/html": [
       "<pre>Using sequences of size 1000 for model creation.</pre>"
      ],
      "text/plain": [
       "Using sequences of size 1000 for model creation."
      ]
     },
     "metadata": {},
     "output_type": "display_data"
    },
    {
     "data": {
      "text/html": [
       "<pre>Processed a total of 52 sessions.</pre>"
      ],
      "text/plain": [
       "Processed a total of 52 sessions."
      ]
     },
     "metadata": {},
     "output_type": "display_data"
    },
    {
     "data": {
      "text/html": [
       "<pre>Using GPU (\"AMD Radeon R9 M370X\") to create model.</pre>"
      ],
      "text/plain": [
       "Using GPU (\"AMD Radeon R9 M370X\") to create model."
      ]
     },
     "metadata": {},
     "output_type": "display_data"
    },
    {
     "data": {
      "text/html": [
       "<pre>+--------------+----------------+---------------------+--------------+</pre>"
      ],
      "text/plain": [
       "+--------------+----------------+---------------------+--------------+"
      ]
     },
     "metadata": {},
     "output_type": "display_data"
    },
    {
     "data": {
      "text/html": [
       "<pre>| Iteration    | Train Accuracy | Validation Accuracy | Elapsed Time |</pre>"
      ],
      "text/plain": [
       "| Iteration    | Train Accuracy | Validation Accuracy | Elapsed Time |"
      ]
     },
     "metadata": {},
     "output_type": "display_data"
    },
    {
     "data": {
      "text/html": [
       "<pre>+--------------+----------------+---------------------+--------------+</pre>"
      ],
      "text/plain": [
       "+--------------+----------------+---------------------+--------------+"
      ]
     },
     "metadata": {},
     "output_type": "display_data"
    },
    {
     "data": {
      "text/html": [
       "<pre>| 1            | 0.663919       | 0.836069            | 2.62s        |</pre>"
      ],
      "text/plain": [
       "| 1            | 0.663919       | 0.836069            | 2.62s        |"
      ]
     },
     "metadata": {},
     "output_type": "display_data"
    },
    {
     "data": {
      "text/html": [
       "<pre>| 2            | 0.831233       | 0.874544            | 3.50s        |</pre>"
      ],
      "text/plain": [
       "| 2            | 0.831233       | 0.874544            | 3.50s        |"
      ]
     },
     "metadata": {},
     "output_type": "display_data"
    },
    {
     "data": {
      "text/html": [
       "<pre>| 3            | 0.861992       | 0.890205            | 4.36s        |</pre>"
      ],
      "text/plain": [
       "| 3            | 0.861992       | 0.890205            | 4.36s        |"
      ]
     },
     "metadata": {},
     "output_type": "display_data"
    },
    {
     "data": {
      "text/html": [
       "<pre>| 4            | 0.879137       | 0.906482            | 5.25s        |</pre>"
      ],
      "text/plain": [
       "| 4            | 0.879137       | 0.906482            | 5.25s        |"
      ]
     },
     "metadata": {},
     "output_type": "display_data"
    },
    {
     "data": {
      "text/html": [
       "<pre>| 5            | 0.888289       | 0.908989            | 6.15s        |</pre>"
      ],
      "text/plain": [
       "| 5            | 0.888289       | 0.908989            | 6.15s        |"
      ]
     },
     "metadata": {},
     "output_type": "display_data"
    },
    {
     "data": {
      "text/html": [
       "<pre>| 6            | 0.898055       | 0.917128            | 7.02s        |</pre>"
      ],
      "text/plain": [
       "| 6            | 0.898055       | 0.917128            | 7.02s        |"
      ]
     },
     "metadata": {},
     "output_type": "display_data"
    },
    {
     "data": {
      "text/html": [
       "<pre>| 10           | 0.920279       | 0.93084             | 10.50s       |</pre>"
      ],
      "text/plain": [
       "| 10           | 0.920279       | 0.93084             | 10.50s       |"
      ]
     },
     "metadata": {},
     "output_type": "display_data"
    },
    {
     "data": {
      "text/html": [
       "<pre>+--------------+----------------+---------------------+--------------+</pre>"
      ],
      "text/plain": [
       "+--------------+----------------+---------------------+--------------+"
      ]
     },
     "metadata": {},
     "output_type": "display_data"
    },
    {
     "data": {
      "text/html": [
       "<pre>Training complete</pre>"
      ],
      "text/plain": [
       "Training complete"
      ]
     },
     "metadata": {},
     "output_type": "display_data"
    },
    {
     "data": {
      "text/html": [
       "<pre>Total Time Spent: 14.0419</pre>"
      ],
      "text/plain": [
       "Total Time Spent: 14.0419"
      ]
     },
     "metadata": {},
     "output_type": "display_data"
    }
   ],
   "source": [
    "model = tc.activity_classifier.create(train, session_id='exp_id', target='activity',\n",
    "                                      prediction_window=50)"
   ]
  },
  {
   "cell_type": "code",
   "execution_count": 14,
   "id": "f275dcf8",
   "metadata": {},
   "outputs": [
    {
     "name": "stdout",
     "output_type": "stream",
     "text": [
      "+--------------------+---------------------+----------------------+--------+\n",
      "|       acc_x        |        acc_y        |        acc_z         | exp_id |\n",
      "+--------------------+---------------------+----------------------+--------+\n",
      "| 0.9652778166595758 | -0.2527777878898114 |  0.1124999994242935  |   6    |\n",
      "| 1.031944529808058  | -0.1819444477154254 | -0.02638889107998799 |   6    |\n",
      "| 1.031944529808058  | -0.2263888907318412 |  0.0625000010308258  |   6    |\n",
      "|  1.03472221632685  | -0.2083333448733957 | 0.02222222302770345  |   6    |\n",
      "|  1.03472221632685  | -0.2083333448733957 | 0.02222222302770345  |   6    |\n",
      "|  0.89722221162784  | -0.2027777894963437 | -0.09027778399406793 |   6    |\n",
      "| 0.9652778166595758 | -0.2263888907318412 |  0.1013888947481719  |   6    |\n",
      "| 1.001388908376467  | -0.2208333475107537 | 0.07777778135670985  |   6    |\n",
      "| 1.022222286625279  |  -0.212499996211229 | 0.05972222334229981  |   6    |\n",
      "|  1.0125000434425   | -0.2291666744983494 |  0.1097222278137498  |   6    |\n",
      "+--------------------+---------------------+----------------------+--------+\n",
      "+---------------------+----------------------+----------------------+----------+\n",
      "|        gyro_x       |        gyro_y        |        gyro_z        | activity |\n",
      "+---------------------+----------------------+----------------------+----------+\n",
      "| 0.05467243865132332 | -0.07941248267889023 |  0.1582140922546387  | standing |\n",
      "|  0.0656680166721344 | 0.07483099400997162  |  0.1921171247959137  | standing |\n",
      "|  0.2590068578720093 |  0.1585195362567902  | -0.2177734673023224  | standing |\n",
      "| 0.09529497474431992 |  0.3017674386501312  | 0.03604105114936829  | standing |\n",
      "| -0.2751947939395905 |  0.6282749176025391  |  0.1267545372247696  | standing |\n",
      "| -0.3433062732219696 |  0.3878994286060333  |  0.1188132911920548  | standing |\n",
      "| -0.2000583708286285 |  0.1175915598869324  | 0.08155050873756409  | standing |\n",
      "| -0.1212567538022995 |  0.1038470938801765  | -0.00366519158706069 | standing |\n",
      "| -0.1411098688840866 | -0.07452555745840073 | 0.02657263725996018  | standing |\n",
      "| 0.01282817032188177 | -0.1252273768186569  | 0.04153883829712868  | standing |\n",
      "+---------------------+----------------------+----------------------+----------+\n",
      "[? rows x 8 columns]\n",
      "Note: Only the head of the SFrame is printed. This SFrame is lazily evaluated.\n",
      "You can use sf.materialize() to force materialization.\n"
     ]
    }
   ],
   "source": [
    "print(test)"
   ]
  },
  {
   "cell_type": "markdown",
   "id": "7e1d0879",
   "metadata": {},
   "source": [
    "Evaluate the model"
   ]
  },
  {
   "cell_type": "code",
   "execution_count": 15,
   "id": "241dc7a1",
   "metadata": {},
   "outputs": [],
   "source": [
    "metrics = model.evaluate(test)"
   ]
  },
  {
   "cell_type": "code",
   "execution_count": 16,
   "id": "5780cbe8",
   "metadata": {},
   "outputs": [
    {
     "name": "stdout",
     "output_type": "stream",
     "text": [
      "0.8651272505536122\n"
     ]
    }
   ],
   "source": [
    "print(metrics['accuracy'])"
   ]
  },
  {
   "cell_type": "markdown",
   "id": "364f6bd2",
   "metadata": {},
   "source": [
    "Save the Model for use in Swift Core ML"
   ]
  },
  {
   "cell_type": "code",
   "execution_count": 17,
   "id": "a1c134fa",
   "metadata": {},
   "outputs": [],
   "source": [
    "model.save('hapt.model')\n",
    "model.export_coreml('UCIHAPTClassifier.mlmodel')"
   ]
  }
 ],
 "metadata": {
  "kernelspec": {
   "display_name": "Python 3 (ipykernel)",
   "language": "python",
   "name": "python3"
  },
  "language_info": {
   "codemirror_mode": {
    "name": "ipython",
    "version": 3
   },
   "file_extension": ".py",
   "mimetype": "text/x-python",
   "name": "python",
   "nbconvert_exporter": "python",
   "pygments_lexer": "ipython3",
   "version": "3.7.11"
  }
 },
 "nbformat": 4,
 "nbformat_minor": 5
}
