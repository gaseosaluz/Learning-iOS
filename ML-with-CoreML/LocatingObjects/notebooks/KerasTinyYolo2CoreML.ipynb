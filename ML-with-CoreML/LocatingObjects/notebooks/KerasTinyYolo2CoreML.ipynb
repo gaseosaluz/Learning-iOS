{
 "cells": [
  {
   "cell_type": "markdown",
   "metadata": {},
   "source": [
    "# Converting Tiny YOLO to CoreML"
   ]
  },
  {
   "cell_type": "markdown",
   "metadata": {},
   "source": [
    "## References \n",
    "\n",
    "* Original implmentation https://pjreddie.com/darknet/yolov2/\n",
    "* Original Paper: YOLO9000: Better, Faster, Stronger https://arxiv.org/abs/1612.08242 "
   ]
  },
  {
   "cell_type": "markdown",
   "metadata": {},
   "source": [
    "## Installing\n",
    "\n",
    "Make sure that you have the appropriate environment setup. You can find a conda environment file in the `notebooks` directory. The file is `mlcml.yml`\n"
   ]
  },
  {
   "cell_type": "markdown",
   "metadata": {},
   "source": [
    "## Environment\n",
    "\n",
    "You will need a beefy computers, or GPU support to train the model."
   ]
  },
  {
   "cell_type": "markdown",
   "metadata": {},
   "source": [
    "Dependencies"
   ]
  },
  {
   "cell_type": "code",
   "execution_count": 1,
   "metadata": {},
   "outputs": [
    {
     "name": "stderr",
     "output_type": "stream",
     "text": [
      "WARNING: Logging before flag parsing goes to stderr.\n",
      "W1004 15:50:52.279964 140734806230464 __init__.py:71] TensorFlow version 1.14.0 detected. Last version known to be fully compatible is 1.13.1 .\n"
     ]
    }
   ],
   "source": [
    "import warnings\n",
    "with warnings.catch_warnings():\n",
    "    warnings.filterwarnings(\"ignore\", category=RuntimeWarning)\n",
    "    \n",
    "import coremltools"
   ]
  },
  {
   "cell_type": "markdown",
   "metadata": {},
   "source": [
    "Documentation on the use of CoreML Tools is here: https://pypi.org/project/coremltools/2.0/. Please refer to the documentation for an explanation of the parameters used in the converstion of the Keras model to CoreML"
   ]
  },
  {
   "cell_type": "code",
   "execution_count": 2,
   "metadata": {},
   "outputs": [
    {
     "name": "stderr",
     "output_type": "stream",
     "text": [
      "/anaconda3/envs/coreml27/lib/python2.7/site-packages/keras/models.py:251: UserWarning: No training configuration found in save file: the model was *not* compiled. Compile it manually.\n",
      "  warnings.warn('No training configuration found in save file: '\n"
     ]
    },
    {
     "name": "stdout",
     "output_type": "stream",
     "text": [
      "0 : input_1, <keras.engine.topology.InputLayer object at 0x11025f3d0>\n",
      "1 : conv2d_1, <keras.layers.convolutional.Conv2D object at 0x108f37b50>\n",
      "2 : batch_normalization_1, <keras.layers.normalization.BatchNormalization object at 0x108f37d50>\n",
      "3 : leaky_re_lu_1, <keras.layers.advanced_activations.LeakyReLU object at 0x11025f7d0>\n",
      "4 : max_pooling2d_1, <keras.layers.pooling.MaxPooling2D object at 0x11025f650>\n",
      "5 : conv2d_2, <keras.layers.convolutional.Conv2D object at 0x11025f610>\n",
      "6 : batch_normalization_2, <keras.layers.normalization.BatchNormalization object at 0x11025f850>\n",
      "7 : leaky_re_lu_2, <keras.layers.advanced_activations.LeakyReLU object at 0x11025fa50>\n",
      "8 : max_pooling2d_2, <keras.layers.pooling.MaxPooling2D object at 0x11025fa90>\n",
      "9 : conv2d_3, <keras.layers.convolutional.Conv2D object at 0x11025fc10>\n",
      "10 : batch_normalization_3, <keras.layers.normalization.BatchNormalization object at 0x11025ff50>\n",
      "11 : leaky_re_lu_3, <keras.layers.advanced_activations.LeakyReLU object at 0x11025fed0>\n",
      "12 : max_pooling2d_3, <keras.layers.pooling.MaxPooling2D object at 0x11029d0d0>\n",
      "13 : conv2d_4, <keras.layers.convolutional.Conv2D object at 0x11029d150>\n",
      "14 : batch_normalization_4, <keras.layers.normalization.BatchNormalization object at 0x11029d190>\n",
      "15 : leaky_re_lu_4, <keras.layers.advanced_activations.LeakyReLU object at 0x11029d290>\n",
      "16 : max_pooling2d_4, <keras.layers.pooling.MaxPooling2D object at 0x11029d3d0>\n",
      "17 : conv2d_5, <keras.layers.convolutional.Conv2D object at 0x11029d450>\n",
      "18 : batch_normalization_5, <keras.layers.normalization.BatchNormalization object at 0x11029d490>\n",
      "19 : leaky_re_lu_5, <keras.layers.advanced_activations.LeakyReLU object at 0x11029d590>\n",
      "20 : max_pooling2d_5, <keras.layers.pooling.MaxPooling2D object at 0x11029d6d0>\n",
      "21 : conv2d_6, <keras.layers.convolutional.Conv2D object at 0x11029d750>\n",
      "22 : batch_normalization_6, <keras.layers.normalization.BatchNormalization object at 0x11029d790>\n",
      "23 : leaky_re_lu_6, <keras.layers.advanced_activations.LeakyReLU object at 0x11029d890>\n",
      "24 : max_pooling2d_6, <keras.layers.pooling.MaxPooling2D object at 0x11029d9d0>\n",
      "25 : conv2d_7, <keras.layers.convolutional.Conv2D object at 0x11029da50>\n",
      "26 : batch_normalization_7, <keras.layers.normalization.BatchNormalization object at 0x11029da90>\n",
      "27 : leaky_re_lu_7, <keras.layers.advanced_activations.LeakyReLU object at 0x11029db90>\n",
      "28 : conv2d_8, <keras.layers.convolutional.Conv2D object at 0x11029dcd0>\n",
      "29 : batch_normalization_8, <keras.layers.normalization.BatchNormalization object at 0x11029dd10>\n",
      "30 : leaky_re_lu_8, <keras.layers.advanced_activations.LeakyReLU object at 0x11029de10>\n",
      "31 : conv2d_9, <keras.layers.convolutional.Conv2D object at 0x11029df50>\n"
     ]
    }
   ],
   "source": [
    "coreml_model = coremltools.converters.keras.convert(\n",
    "    'tinyyolo_voc2007_modelweights.h5',\n",
    "    input_names='image',\n",
    "    image_input_names='image',\n",
    "    output_names='output',\n",
    "    image_scale=1./255.)"
   ]
  },
  {
   "cell_type": "markdown",
   "metadata": {},
   "source": [
    "4 - Add metadata "
   ]
  },
  {
   "cell_type": "markdown",
   "metadata": {},
   "source": [
    "At a high level, the *Core ML model* defines a specification consists of:\n",
    "- **Model description:** Encodes names and type information of the inputs and outputs to the model.\n",
    "- **Model parameters:** The set of parameters required to represent a specific instance of the model.\n",
    "- **Metadata:** Information about the origin, license, and author of the model.\n",
    "\n",
    "With this class, you can inspect a CoreML model, modify metadata (shown below), and make predictions for the purposes of testing using the [**predict** function](https://apple.github.io/coremltools/generated/coremltools.models.MLModel.html?highlight=metadata#coremltools.models.MLModel.predict). "
   ]
  },
  {
   "cell_type": "code",
   "execution_count": 3,
   "metadata": {},
   "outputs": [],
   "source": [
    "coreml_model.author = 'Joshua Newnham'\n",
    "coreml_model.license = 'BSD'\n",
    "coreml_model.short_description = 'Keras port of YOLOTiny VOC2007 by Joseph Redmon and Ali Farhadi'\n",
    "coreml_model.input_description['image'] = '416x416 RGB Image'\n",
    "coreml_model.output_description['output'] = '13x13 Grid made up of: [confidence, cx, cy, w, h, 20 x classes] * 5 bounding boxes'"
   ]
  },
  {
   "cell_type": "markdown",
   "metadata": {},
   "source": [
    "5 - Save to disk "
   ]
  },
  {
   "cell_type": "code",
   "execution_count": 4,
   "metadata": {},
   "outputs": [],
   "source": [
    "coreml_model.save('tinyyolo_voc2007.mlmodel')"
   ]
  },
  {
   "cell_type": "code",
   "execution_count": null,
   "metadata": {},
   "outputs": [],
   "source": []
  }
 ],
 "metadata": {
  "kernelspec": {
   "display_name": "Python 3",
   "language": "python",
   "name": "python3"
  },
  "language_info": {
   "codemirror_mode": {
    "name": "ipython",
    "version": 3
   },
   "file_extension": ".py",
   "mimetype": "text/x-python",
   "name": "python",
   "nbconvert_exporter": "python",
   "pygments_lexer": "ipython3",
   "version": "3.6.8"
  }
 },
 "nbformat": 4,
 "nbformat_minor": 2
}
