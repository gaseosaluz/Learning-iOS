{
 "cells": [
  {
   "cell_type": "markdown",
   "metadata": {},
   "source": [
    "# DNG Image Analysis"
   ]
  },
  {
   "cell_type": "code",
   "execution_count": 1,
   "metadata": {},
   "outputs": [],
   "source": [
    "import rawpy\n",
    "import numpy as np\n",
    "import matplotlib.pyplot as plt\n",
    "import matplotlib\n",
    "\n",
    "from PIL import Image\n",
    "import scipy.misc\n",
    "from scipy import ndimage\n",
    "\n",
    "from pycoreimage.pyci import cimg, show, color"
   ]
  },
  {
   "cell_type": "code",
   "execution_count": 4,
   "metadata": {},
   "outputs": [],
   "source": [
    "import Quartz\n",
    "import Cocoa"
   ]
  },
  {
   "cell_type": "code",
   "execution_count": 2,
   "metadata": {},
   "outputs": [],
   "source": [
    "# Files\n",
    "good_dng = \"/Users/edm/tmp/DNG/1.dng\"\n",
    "bad_dng = \"/users/edm/tmp/DNG/2.dng\""
   ]
  },
  {
   "cell_type": "code",
   "execution_count": 6,
   "metadata": {},
   "outputs": [],
   "source": [
    "%matplotlib inline"
   ]
  },
  {
   "cell_type": "code",
   "execution_count": 5,
   "metadata": {},
   "outputs": [],
   "source": [
    "matplotlib.rcParams['figure.figsize']=[25,12]"
   ]
  },
  {
   "cell_type": "code",
   "execution_count": 3,
   "metadata": {},
   "outputs": [],
   "source": [
    "good = rawpy.imread(good_dng)\n",
    "bad = rawpy.imread(bad_dng)"
   ]
  },
  {
   "cell_type": "code",
   "execution_count": 6,
   "metadata": {},
   "outputs": [],
   "source": [
    "# Load the Image\n",
    "good_url = good_dng\n",
    "bad_url = bad_dng"
   ]
  },
  {
   "cell_type": "code",
   "execution_count": 7,
   "metadata": {},
   "outputs": [],
   "source": [
    "goodRAWImage = cimg.fromFile(good_url)\n",
    "badRAWImage = cimg.fromFile(bad_url)"
   ]
  },
  {
   "cell_type": "code",
   "execution_count": 8,
   "metadata": {},
   "outputs": [
    {
     "name": "stdout",
     "output_type": "stream",
     "text": [
      "{\n",
      "    ColorModel = RGB;\n",
      "    Depth = 16;\n",
      "    PixelHeight = 3024;\n",
      "    PixelWidth = 4032;\n",
      "    ProfileName = \"Display P3\";\n",
      "    \"{DNG}\" =     {\n",
      "        DNGBackwardVersion =         (\n",
      "            1,\n",
      "            3\n",
      "        );\n",
      "        DNGVersion =         (\n",
      "            1,\n",
      "            4\n",
      "        );\n",
      "        UniqueCameraModel = \"iPhone8,1 back camera\";\n",
      "    };\n",
      "    \"{ExifAux}\" =     {\n",
      "        LensInfo =         (\n",
      "            \"4.15000009537016\",\n",
      "            \"4.15000009537016\",\n",
      "            \"2.2\",\n",
      "            \"2.2\"\n",
      "        );\n",
      "        LensModel = \"iPhone 6s back camera 4.15mm f/2.2\";\n",
      "    };\n",
      "    \"{Exif}\" =     {\n",
      "        ApertureValue = \"2.275007010375356\";\n",
      "        BrightnessValue = \"2.46775102665271\";\n",
      "        CFAPattern =         (\n",
      "            0,\n",
      "            1,\n",
      "            1,\n",
      "            2\n",
      "        );\n",
      "        DateTimeDigitized = \"2017:07:04 11:10:38\";\n",
      "        DateTimeOriginal = \"2017:07:04 11:10:38\";\n",
      "        ExifVersion =         (\n",
      "            2,\n",
      "            2,\n",
      "            1\n",
      "        );\n",
      "        ExposureBiasValue = 0;\n",
      "        ExposureMode = 0;\n",
      "        ExposureProgram = 2;\n",
      "        ExposureTime = \"0.0303030303030303\";\n",
      "        FNumber = \"2.2\";\n",
      "        Flash = 16;\n",
      "        FocalLenIn35mmFilm = 29;\n",
      "        FocalLength = \"4.15000009537016\";\n",
      "        ISOSpeedRatings =         (\n",
      "            100\n",
      "        );\n",
      "        LensMake = Apple;\n",
      "        LensModel = \"iPhone 6s back camera 4.15mm f/2.2\";\n",
      "        LensSpecification =         (\n",
      "            \"4.15\",\n",
      "            \"4.15\",\n",
      "            \"2.2\",\n",
      "            \"2.2\"\n",
      "        );\n",
      "        MeteringMode = 5;\n",
      "        SceneType = 1;\n",
      "        SensingMethod = 2;\n",
      "        ShutterSpeedValue = \"5.059471127900702\";\n",
      "        SubjectArea =         (\n",
      "            2015,\n",
      "            1511,\n",
      "            2217,\n",
      "            1330\n",
      "        );\n",
      "        SubsecTimeDigitized = 84;\n",
      "        SubsecTimeOriginal = 84;\n",
      "        WhiteBalance = 0;\n",
      "    };\n",
      "    \"{IPTC}\" =     {\n",
      "        StarRating = 0;\n",
      "    };\n",
      "    \"{TIFF}\" =     {\n",
      "        Compression = 7;\n",
      "        DateTime = \"2017:07:04 11:10:38\";\n",
      "        Make = Apple;\n",
      "        Model = \"iPhone 6s\";\n",
      "        PhotometricInterpretation = 32803;\n",
      "        Software = \"10.3.2\";\n",
      "    };\n",
      "}\n"
     ]
    }
   ],
   "source": [
    "print(goodRAWImage.ciimage.properties())"
   ]
  },
  {
   "cell_type": "code",
   "execution_count": 9,
   "metadata": {},
   "outputs": [
    {
     "name": "stdout",
     "output_type": "stream",
     "text": [
      "{\n",
      "    ColorModel = RGB;\n",
      "    Depth = 16;\n",
      "    PixelHeight = 3024;\n",
      "    PixelWidth = 4032;\n",
      "    ProfileName = \"Display P3\";\n",
      "    \"{DNG}\" =     {\n",
      "        DNGBackwardVersion =         (\n",
      "            1,\n",
      "            3\n",
      "        );\n",
      "        DNGVersion =         (\n",
      "            1,\n",
      "            4\n",
      "        );\n",
      "        UniqueCameraModel = \"iPhone11,2 back camera\";\n",
      "    };\n",
      "    \"{ExifAux}\" =     {\n",
      "        LensInfo =         (\n",
      "            \"4.25\",\n",
      "            \"4.25\",\n",
      "            \"1.8\",\n",
      "            \"1.8\"\n",
      "        );\n",
      "        LensModel = \"iPhone XS back camera 4.25mm f/1.8\";\n",
      "    };\n",
      "    \"{Exif}\" =     {\n",
      "        ApertureValue = \"1.695993781059996\";\n",
      "        BrightnessValue = \"-6.708386419845612\";\n",
      "        CFAPattern =         (\n",
      "            0,\n",
      "            1,\n",
      "            1,\n",
      "            2\n",
      "        );\n",
      "        DateTimeDigitized = \"2019:07:16 14:39:37\";\n",
      "        DateTimeOriginal = \"2019:07:16 14:39:37\";\n",
      "        ExifVersion =         (\n",
      "            2,\n",
      "            2,\n",
      "            1\n",
      "        );\n",
      "        ExposureBiasValue = 0;\n",
      "        ExposureMode = 0;\n",
      "        ExposureProgram = 2;\n",
      "        ExposureTime = \"0.06666666666666667\";\n",
      "        FNumber = \"1.8\";\n",
      "        Flash = 16;\n",
      "        FocalLenIn35mmFilm = 26;\n",
      "        FocalLength = \"4.25\";\n",
      "        ISOSpeedRatings =         (\n",
      "            2500\n",
      "        );\n",
      "        LensMake = Apple;\n",
      "        LensModel = \"iPhone XS back camera 4.25mm f/1.8\";\n",
      "        LensSpecification =         (\n",
      "            \"4.25\",\n",
      "            \"4.25\",\n",
      "            \"1.8\",\n",
      "            \"1.8\"\n",
      "        );\n",
      "        MeteringMode = 5;\n",
      "        PixelXDimension = 4032;\n",
      "        PixelYDimension = 3024;\n",
      "        SceneType = 1;\n",
      "        SensingMethod = 2;\n",
      "        ShutterSpeedValue = \"3.910436867896987\";\n",
      "        SubjectArea =         (\n",
      "            2013,\n",
      "            1511,\n",
      "            2116,\n",
      "            1270\n",
      "        );\n",
      "        SubsecTimeDigitized = 075;\n",
      "        SubsecTimeOriginal = 075;\n",
      "        WhiteBalance = 0;\n",
      "    };\n",
      "    \"{GPS}\" =     {\n",
      "        Altitude = \"265.6871032667596\";\n",
      "        DOP = 65;\n",
      "        Latitude = \"30.50393666666667\";\n",
      "        LatitudeRef = N;\n",
      "        Longitude = \"97.74262166666666\";\n",
      "        LongitudeRef = W;\n",
      "        TimeStamp = \"19:39:36.62\";\n",
      "    };\n",
      "    \"{TIFF}\" =     {\n",
      "        Compression = 7;\n",
      "        Copyright = \"Copyright 2019. All rights reserved.\";\n",
      "        DateTime = \"2019:07:16 14:39:37\";\n",
      "        Make = Apple;\n",
      "        Model = \"iPhone XS\";\n",
      "        PhotometricInterpretation = 32803;\n",
      "        Software = VSCO;\n",
      "    };\n",
      "}\n"
     ]
    }
   ],
   "source": [
    "print(badRAWImage.ciimage.properties())"
   ]
  },
  {
   "cell_type": "code",
   "execution_count": null,
   "metadata": {},
   "outputs": [],
   "source": []
  }
 ],
 "metadata": {
  "kernelspec": {
   "display_name": "Python 3",
   "language": "python",
   "name": "python3"
  },
  "language_info": {
   "codemirror_mode": {
    "name": "ipython",
    "version": 3
   },
   "file_extension": ".py",
   "mimetype": "text/x-python",
   "name": "python",
   "nbconvert_exporter": "python",
   "pygments_lexer": "ipython3",
   "version": "3.6.8"
  }
 },
 "nbformat": 4,
 "nbformat_minor": 2
}
